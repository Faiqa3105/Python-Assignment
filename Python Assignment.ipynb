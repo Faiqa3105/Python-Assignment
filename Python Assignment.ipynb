{
 "cells": [
  {
   "cell_type": "code",
   "execution_count": 1,
   "metadata": {},
   "outputs": [
    {
     "name": "stdout",
     "output_type": "stream",
     "text": [
      "Twinkle, twinkle, little star,\n",
      "      How I wonder what you are!\n",
      "            Up above the world so high,\n",
      "            Like a diamond in the sky.\n",
      "Twinkle, twincle, little star,\n",
      "      How I wonder what you are\n"
     ]
    }
   ],
   "source": [
    "print(\"Twinkle, twinkle, little star,\\n\"\n",
    "       \"      \"\"How I wonder what you are!\\n\" \n",
    "       \"           \"\" Up above the world so high,\\n\"\n",
    "       \"           \"\" Like a diamond in the sky.\\n\"\n",
    "       \"Twinkle, twincle, little star,\\n\"\n",
    "       \"      \"\"How I wonder what you are\"\n",
    "    \n",
    "     ) ;"
   ]
  },
  {
   "cell_type": "code",
   "execution_count": 2,
   "metadata": {},
   "outputs": [
    {
     "name": "stdout",
     "output_type": "stream",
     "text": [
      "Python version\n",
      "3.7.4 (default, Aug  9 2019, 18:34:13) [MSC v.1915 64 bit (AMD64)]\n"
     ]
    }
   ],
   "source": [
    "import sys\n",
    "print(\"Python version\");\n",
    "print (sys.version)"
   ]
  },
  {
   "cell_type": "code",
   "execution_count": 7,
   "metadata": {},
   "outputs": [
    {
     "name": "stdout",
     "output_type": "stream",
     "text": [
      "now = 2019-11-05 18:11:15.342554\n",
      "date and time = 05/11/2019 18:11:15\n"
     ]
    }
   ],
   "source": [
    "\n",
    "from datetime import datetime\n",
    "now = datetime.now() \n",
    "print(\"now =\", now)\n",
    "dt_string = now.strftime(\"%d/%m/%Y %H:%M:%S\")\n",
    "print(\"date and time =\", dt_string)"
   ]
  },
  {
   "cell_type": "code",
   "execution_count": 3,
   "metadata": {},
   "outputs": [
    {
     "name": "stdout",
     "output_type": "stream",
     "text": [
      "input the radius of the circle12\n",
      "Area is 904.32\n"
     ]
    }
   ],
   "source": [
    "#from math import pi\n",
    "r=float(input(\"input the radius of the circle\"))\n",
    "pi=3.14\n",
    "area=2*pi*r**2\n",
    "print(\"Area is\",area)"
   ]
  },
  {
   "cell_type": "code",
   "execution_count": 4,
   "metadata": {},
   "outputs": [
    {
     "name": "stdout",
     "output_type": "stream",
     "text": [
      "Enter the First NameFaiqa\n",
      "Enter the last NameKhan\n",
      "Khan Faiqa\n"
     ]
    }
   ],
   "source": [
    "firstname=input(\"Enter the First Name\")\n",
    "lastname=input(\"Enter the last Name\")\n",
    "print(lastname+\" \"+firstname)"
   ]
  },
  {
   "cell_type": "code",
   "execution_count": 5,
   "metadata": {},
   "outputs": [
    {
     "name": "stdout",
     "output_type": "stream",
     "text": [
      "Enter first number: 32\n",
      "Enter second number: 54\n",
      "The sum of 32 and 54 is 86.0\n"
     ]
    }
   ],
   "source": [
    "a = input('Enter first number: ')\n",
    "b = input('Enter second number: ')\n",
    "\n",
    "# Add two numbers\n",
    "sum =float(a) + float(b)\n",
    "\n",
    "# Display the sum\n",
    "print('The sum of {0} and {1} is {2}'.format(a, b, sum))"
   ]
  },
  {
   "cell_type": "code",
   "execution_count": null,
   "metadata": {},
   "outputs": [],
   "source": []
  }
 ],
 "metadata": {
  "kernelspec": {
   "display_name": "Python 3",
   "language": "python",
   "name": "python3"
  },
  "language_info": {
   "codemirror_mode": {
    "name": "ipython",
    "version": 3
   },
   "file_extension": ".py",
   "mimetype": "text/x-python",
   "name": "python",
   "nbconvert_exporter": "python",
   "pygments_lexer": "ipython3",
   "version": "3.7.4"
  }
 },
 "nbformat": 4,
 "nbformat_minor": 2
}
